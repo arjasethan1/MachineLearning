{
 "cells": [
  {
   "cell_type": "markdown",
   "metadata": {},
   "source": [
    "## Logistic Regression with numpy"
   ]
  },
  {
   "cell_type": "markdown",
   "metadata": {},
   "source": [
    "### Classification vs Regresssion"
   ]
  },
  {
   "cell_type": "markdown",
   "metadata": {},
   "source": [
    "#### Classification \n",
    "\n",
    "Classification is the task of predicting a discrete class label.\n",
    "\n",
    "For example, an email of text can be classified as belonging to one of two classes: “spam“ and “not spam“.\n",
    "\n",
    "- A classification problem requires that examples be classified into one of two or more classes.\n",
    "- A classification can have real-valued or discrete input variables.\n",
    "- A problem with two classes is often called a two-class or binary classification problem.\n",
    "- A problem with more than two classes is often called a multi-class classification problem.\n",
    "- A problem where an example is assigned multiple classes is called a multi-label classification problem.\n",
    "\n",
    "\n",
    "#### Regression \n",
    "\n",
    "Regression is the task of predicting a continuous quantity.\n",
    "\n",
    "For example, a house may be predicted to sell for a specific dollar value, perhaps in the range of $100,000 to $200,000.\n",
    "\n",
    "- A regression problem requires the prediction of a quantity.\n",
    "- A regression can have real valued or discrete input variables.\n",
    "- A problem with multiple input variables is often called a multivariate regression problem.\n",
    "- A regression problem where input variables are ordered by time is called a time series forecasting problem."
   ]
  },
  {
   "cell_type": "markdown",
   "metadata": {},
   "source": [
    "### Sigmoid Activation function"
   ]
  },
  {
   "cell_type": "markdown",
   "metadata": {},
   "source": [
    "A sigmoid function is a mathematical function having a characteristic \"S\"-shaped curve or sigmoid curve. A standard choice for a sigmoid function is the logistic function shown in the figure and defined by the formula. A sigmoid function is a bounded, differentiable, real function that is defined for all real input values and has a non-negative derivative at each point. A sigmoid \"function\" and a sigmoid \"curve\" refer to the same object.\n",
    "(Wiki).\n",
    "\n",
    "\\begin{align} \n",
    "\\sigma(x)={\\frac {1}{1+e^{-x}}}={\\frac {e^{x}}{e^{x}+1}}.\n",
    "\\end{align}"
   ]
  },
  {
   "cell_type": "code",
   "execution_count": 76,
   "metadata": {},
   "outputs": [],
   "source": [
    "import numpy as np\n",
    "def sigmoid(x):\n",
    "    return 1/(1 + np.exp(-x))"
   ]
  },
  {
   "cell_type": "code",
   "execution_count": 77,
   "metadata": {},
   "outputs": [],
   "source": [
    "import matplotlib.pyplot as plt\n",
    "%matplotlib inline"
   ]
  },
  {
   "cell_type": "code",
   "execution_count": 78,
   "metadata": {},
   "outputs": [
    {
     "data": {
      "text/plain": [
       "Text(0.5, 1.0, 'Sigmoid function')"
      ]
     },
     "execution_count": 78,
     "metadata": {},
     "output_type": "execute_result"
    },
    {
     "data": {
      "image/png": "[encoded data removed]",
      "text/plain": [
       "<Figure size 432x288 with 1 Axes>"
      ]
     },
     "metadata": {
      "needs_background": "light"
     },
     "output_type": "display_data"
    }
   ],
   "source": [
    "x = np.arange(-10, 10, 0.1)\n",
    "y = sigmoid(x)\n",
    "\n",
    "plt.plot(x,y)\n",
    "plt.title('Sigmoid function')"
   ]
  },
  {
   "cell_type": "markdown",
   "metadata": {},
   "source": [
    "#### Sigmoid function derivation\n",
    "\n",
    "One of the main benifits of sigmoid funciton is it is easy to derivate.\n",
    "\n",
    "\\begin{align}\n",
    "\\sigma(x)={\\frac {1}{1+e^{-x}}}={\\frac {e^{x}}{e^{x}+1}}.\\\\\n",
    "\\frac{d\\sigma(𝑥)}{dx} = \\frac{d\\sigma(𝑥)}{dx}(1+e^{−𝑥})^{−1} \\\\\n",
    "                      = −(1+𝑒^{−𝑥})^{−2}.(−𝑒−𝑥)\n",
    "                      =\\frac{𝑒^{−𝑥}}{(1+𝑒−𝑥)^{2}} \\\\\n",
    "                      =\\frac{1}{1+𝑒^{−𝑥}} ⋅\\frac{𝑒^{−𝑥}}{1+𝑒^{−𝑥}}\\\\\n",
    " \\frac{d\\sigma(𝑥)}{dx}=\\sigma(𝑥)⋅(1−\\sigma(𝑥))\n",
    "\\end{align}"
   ]
  },
  {
   "cell_type": "markdown",
   "metadata": {},
   "source": [
    "### Evaluation metrics"
   ]
  },
  {
   "cell_type": "markdown",
   "metadata": {},
   "source": [
    "#### Accuracy \n",
    "\n",
    "Accuracy is the ratio of number of correct predictions to the total number of input samples.\n",
    "\n",
    "\\begin{align} \n",
    "Accuracy = \\frac{Number Of Correct Predictions}{Total Number Of Predictions}\n",
    "\\end{align}\n",
    "\n",
    "- Easy to understand for humans\n",
    "- Cant deal with probabilities(so loss of some information).\n",
    "- Hard to calculate derivative\n",
    "\n",
    "\n",
    "#### Log loss (Cost fuction)\n",
    "Logarithmic loss (related to cross-entropy) measures the performance of a classification model where the prediction input is a probability value between 0 and 1(Wiki).\n",
    "\n",
    "\\begin{align} \n",
    "log loss = -{(y\\log(p) + (1 - y)\\log(1 - p))}\n",
    "\\end{align}\n",
    "\n",
    "- Easy to derive\n",
    "- Can deal with probabilities\n",
    "- hard to understand for humans."
   ]
  },
  {
   "cell_type": "markdown",
   "metadata": {},
   "source": [
    "<img src=\"files/imgs/Log_loss_graph.png\">\n",
    "<img src=\"files/imgs/Log_vs_neglog.gif\">\n"
   ]
  },
  {
   "cell_type": "markdown",
   "metadata": {},
   "source": [
    "### Logistic Regression"
   ]
  },
  {
   "cell_type": "markdown",
   "metadata": {},
   "source": [
    "Logistic regression is same as linear regression with sigmoid activation function.\n",
    "\n",
    "Linear regression equation:\n",
    "\n",
    "\\begin{equation} \n",
    "\\hat{y} = b+ w0x0 + w1x1 + w2x2 + ...\n",
    "\\end{equation}\n",
    "\n",
    "the above equation is works well for continous y value. For discrete we can use sigmoid function to convert this continous values into probabilities. The resulting equation looks like this\n",
    "\n",
    "\\begin{align} \n",
    "prediction = \\sigma(\\hat{y})\n",
    "\\end{align}"
   ]
  },
  {
   "cell_type": "markdown",
   "metadata": {},
   "source": [
    "#### Training logistic regression model\n",
    "- Calculate y hat and probabilites shown in the above equations.\n",
    "- Calculate cost using binary log loss function.\n",
    "- Calculate derivatives and perform gradient decent calculation.\n",
    "- update weights until converged."
   ]
  },
  {
   "cell_type": "markdown",
   "metadata": {},
   "source": [
    "#### Binary log loss derivative\n",
    "\n",
    "\\begin{align} \n",
    "log loss = -{(y\\log(\\sigma(\\hat{y})) - (1 - y)\\log(1 - \\sigma(\\hat{y}))}\\\\\n",
    "\\frac {d(log loss)}{d\\hat{y}} = \\frac{-y}{\\sigma(\\hat{y})} \\frac{d\\sigma(\\hat{y})}{d\\hat{y}} + \\frac{1-y}{1 - \\sigma(\\hat{y})} \\frac{d\\sigma(\\hat{y})}{d\\hat{y}} \\\\\n",
    "      = (1 - \\sigma(\\hat{y}))(\\frac{(1-y)\\sigma(\\hat{y})}{1-\\sigma(\\hat{y})} - y)\\\\\n",
    "\\frac {d(log loss)}{d\\hat{y}}= \\sigma(\\hat{y}) -y\n",
    "\\end{align}"
   ]
  },
  {
   "cell_type": "markdown",
   "metadata": {},
   "source": [
    "some parts of code is from this blog https://towardsdatascience.com/logistic-regression-from-scratch-with-numpy-da4cc3121ece"
   ]
  },
  {
   "cell_type": "code",
   "execution_count": 79,
   "metadata": {},
   "outputs": [],
   "source": [
    "def compute_cost(X, y, weights):\n",
    "    m = len(y)\n",
    "    h = sigmoid(X.dot(weights))\n",
    "    epsilon = 1e-5 # adding small value to avoild log(0)\n",
    "    cost = (1/m)*(((-y).T.dot(np.log(h + epsilon)))-((1-y).T.dot(np.log(1-h + epsilon))))\n",
    "    return cost"
   ]
  },
  {
   "cell_type": "code",
   "execution_count": 80,
   "metadata": {},
   "outputs": [],
   "source": [
    "## Performing gradient descent\n",
    "def gradient_descent(X, y, params, learning_rate, iterations):\n",
    "    m = len(y)\n",
    "    cost_history = np.zeros((iterations,1))\n",
    "\n",
    "    for i in range(iterations):\n",
    "        params = params - (learning_rate/m) * (X.T.dot(sigmoid(X.dot(params)) - y)) \n",
    "        cost_history[i] = compute_cost(X, y, params)\n",
    "\n",
    "    return (cost_history, params)"
   ]
  },
  {
   "cell_type": "code",
   "execution_count": 81,
   "metadata": {},
   "outputs": [],
   "source": [
    "from sklearn.datasets import make_classification"
   ]
  },
  {
   "cell_type": "code",
   "execution_count": 82,
   "metadata": {},
   "outputs": [],
   "source": [
    "X, y = make_classification(n_samples=500, n_features=2, n_redundant=0, n_informative=1,\n",
    "                             n_clusters_per_class=1, random_state=14)\n",
    "\n",
    "y = y[:,np.newaxis]"
   ]
  },
  {
   "cell_type": "code",
   "execution_count": 83,
   "metadata": {},
   "outputs": [
    {
     "data": {
      "text/plain": [
       "Text(0, 0.5, 'x[1]')"
      ]
     },
     "execution_count": 83,
     "metadata": {},
     "output_type": "execute_result"
    },
    {
     "data": {
      "image/png": "[encoded data removed]",
      "text/plain": [
       "<Figure size 432x288 with 1 Axes>"
      ]
     },
     "metadata": {
      "needs_background": "light"
     },
     "output_type": "display_data"
    }
   ],
   "source": [
    "plt.scatter(x=X[np.squeeze(y==0)][:, 0], y=X[np.squeeze(y==0)][:, 1]) \n",
    "plt.scatter(x=X[np.squeeze(y==1)][:, 0], y=X[np.squeeze(y==1)][:, 1]) \n",
    "plt.legend(['0', '1'])\n",
    "plt.xlabel('x[0]')\n",
    "plt.ylabel('x[1]')"
   ]
  },
  {
   "cell_type": "code",
   "execution_count": 84,
   "metadata": {},
   "outputs": [
    {
     "name": "stdout",
     "output_type": "stream",
     "text": [
      "Initial Cost is: [[0.69312718]] \n",
      "\n",
      "Optimal Parameters are: \n",
      " [[-0.45293068]\n",
      " [ 3.26552327]\n",
      " [ 0.03334871]] \n",
      "\n"
     ]
    },
    {
     "data": {
      "image/png": "[encoded data removed]",
      "text/plain": [
       "<Figure size 432x288 with 1 Axes>"
      ]
     },
     "metadata": {
      "needs_background": "light"
     },
     "output_type": "display_data"
    }
   ],
   "source": [
    "m = len(y)\n",
    "\n",
    "X = np.hstack((np.ones((m,1)),X))\n",
    "n = np.size(X,1)\n",
    "params = np.zeros((n,1))\n",
    "\n",
    "iterations = 1500\n",
    "learning_rate = 0.03\n",
    "\n",
    "initial_cost = compute_cost(X, y, params)\n",
    "\n",
    "print(\"Initial Cost is: {} \\n\".format(initial_cost))\n",
    "\n",
    "(cost_history, params_optimal) = gradient_descent(X, y, params, learning_rate, iterations)\n",
    "\n",
    "print(\"Optimal Parameters are: \\n\", params_optimal, \"\\n\")\n",
    "\n",
    "plt.figure()\n",
    "# sns.set_style('white')\n",
    "plt.plot(range(len(cost_history)), cost_history, 'r')\n",
    "plt.title(\"Convergence Graph of Cost Function\")\n",
    "plt.xlabel(\"Number of Iterations\")\n",
    "plt.ylabel(\"Cost\")\n",
    "plt.show()"
   ]
  },
  {
   "cell_type": "code",
   "execution_count": 85,
   "metadata": {},
   "outputs": [],
   "source": [
    "## to converting probabilites into classes\n",
    "def predict(X, params):\n",
    "    return np.round(sigmoid(X.dot(params)))"
   ]
  },
  {
   "cell_type": "code",
   "execution_count": 86,
   "metadata": {},
   "outputs": [],
   "source": [
    "def accuracy(y_pred, y):\n",
    "    return float(sum(y_pred == y))/ float(len(y))"
   ]
  },
  {
   "cell_type": "code",
   "execution_count": 87,
   "metadata": {},
   "outputs": [
    {
     "name": "stdout",
     "output_type": "stream",
     "text": [
      "Accuracy of the model: 0.966\n"
     ]
    }
   ],
   "source": [
    "y_pred = predict(X, params_optimal)\n",
    "score = accuracy(y_pred, y)\n",
    "\n",
    "print('Accuracy of the model: {}'.format(score))"
   ]
  },
  {
   "cell_type": "code",
   "execution_count": 88,
   "metadata": {},
   "outputs": [
    {
     "data": {
      "image/png": "[encoded data removed]",
      "text/plain": [
       "<Figure size 432x288 with 1 Axes>"
      ]
     },
     "metadata": {
      "needs_background": "light"
     },
     "output_type": "display_data"
    }
   ],
   "source": [
    "slope = -(params_optimal[1] / params_optimal[2])\n",
    "intercept = -(params_optimal[0] / params_optimal[2])\n",
    "\n",
    "\n",
    "plt.scatter(x=X[np.squeeze(y==0)][:, 1], y=X[np.squeeze(y==0)][:, 2]) \n",
    "plt.scatter(x=X[np.squeeze(y==1)][:, 1], y=X[np.squeeze(y==1)][:, 2]) \n",
    "plt.legend(['0', '1'])\n",
    "plt.xlabel('x[0]')\n",
    "plt.ylabel('x[1]')\n",
    "\n",
    "ax = plt.gca()\n",
    "ax.autoscale(False)\n",
    "x_vals = np.array(ax.get_xlim())\n",
    "y_vals = intercept + (slope * x_vals)\n",
    "plt.plot(x_vals, y_vals, c=\"k\");"
   ]
  }
 ],
 "metadata": {
  "kernelspec": {
   "display_name": "Python 3",
   "language": "python",
   "name": "python3"
  },
  "language_info": {
   "codemirror_mode": {
    "name": "ipython",
    "version": 3
   },
   "file_extension": ".py",
   "mimetype": "text/x-python",
   "name": "python",
   "nbconvert_exporter": "python",
   "pygments_lexer": "ipython3",
   "version": "3.7.3"
  }
 },
 "nbformat": 4,
 "nbformat_minor": 2
}
